{
 "cells": [
  {
   "cell_type": "markdown",
   "id": "1d191368",
   "metadata": {},
   "source": [
    "## Imports"
   ]
  },
  {
   "cell_type": "code",
   "execution_count": 1,
   "id": "abde2a3e",
   "metadata": {},
   "outputs": [],
   "source": [
    "import pandas as pd\n",
    "from packages.utils.data_exploration import find_primary_key, find_volumetry, find_number_of_unique_values_per_column"
   ]
  },
  {
   "cell_type": "code",
   "execution_count": 3,
   "id": "7121e9d2",
   "metadata": {},
   "outputs": [],
   "source": [
    "distributors = pd.read_csv('../../../data/dimensions/distributors.csv')"
   ]
  },
  {
   "cell_type": "code",
   "execution_count": 4,
   "id": "4ca59893",
   "metadata": {},
   "outputs": [
    {
     "data": {
      "text/html": [
       "<div>\n",
       "<style scoped>\n",
       "    .dataframe tbody tr th:only-of-type {\n",
       "        vertical-align: middle;\n",
       "    }\n",
       "\n",
       "    .dataframe tbody tr th {\n",
       "        vertical-align: top;\n",
       "    }\n",
       "\n",
       "    .dataframe thead th {\n",
       "        text-align: right;\n",
       "    }\n",
       "</style>\n",
       "<table border=\"1\" class=\"dataframe\">\n",
       "  <thead>\n",
       "    <tr style=\"text-align: right;\">\n",
       "      <th></th>\n",
       "      <th>distributor_id</th>\n",
       "      <th>distributor_name</th>\n",
       "      <th>country</th>\n",
       "    </tr>\n",
       "  </thead>\n",
       "  <tbody>\n",
       "    <tr>\n",
       "      <th>0</th>\n",
       "      <td>D001</td>\n",
       "      <td>AmeriBev Dist.</td>\n",
       "      <td>USA</td>\n",
       "    </tr>\n",
       "    <tr>\n",
       "      <th>1</th>\n",
       "      <td>D002</td>\n",
       "      <td>NorthSpirits Co.</td>\n",
       "      <td>USA</td>\n",
       "    </tr>\n",
       "    <tr>\n",
       "      <th>2</th>\n",
       "      <td>D003</td>\n",
       "      <td>MapleWine Dist.</td>\n",
       "      <td>Canada</td>\n",
       "    </tr>\n",
       "    <tr>\n",
       "      <th>3</th>\n",
       "      <td>D004</td>\n",
       "      <td>Pacific Pour Inc.</td>\n",
       "      <td>USA</td>\n",
       "    </tr>\n",
       "  </tbody>\n",
       "</table>\n",
       "</div>"
      ],
      "text/plain": [
       "  distributor_id   distributor_name country\n",
       "0           D001     AmeriBev Dist.     USA\n",
       "1           D002   NorthSpirits Co.     USA\n",
       "2           D003    MapleWine Dist.  Canada\n",
       "3           D004  Pacific Pour Inc.     USA"
      ]
     },
     "execution_count": 4,
     "metadata": {},
     "output_type": "execute_result"
    }
   ],
   "source": [
    "distributors.head()"
   ]
  },
  {
   "cell_type": "code",
   "execution_count": 5,
   "id": "11e3b27a",
   "metadata": {},
   "outputs": [
    {
     "data": {
      "text/plain": [
       "['distributor_id', 'distributor_name']"
      ]
     },
     "execution_count": 5,
     "metadata": {},
     "output_type": "execute_result"
    }
   ],
   "source": [
    "find_primary_key(distributors)"
   ]
  },
  {
   "cell_type": "code",
   "execution_count": 6,
   "id": "ae57b5ac",
   "metadata": {},
   "outputs": [
    {
     "data": {
      "text/plain": [
       "4"
      ]
     },
     "execution_count": 6,
     "metadata": {},
     "output_type": "execute_result"
    }
   ],
   "source": [
    "find_volumetry(distributors)"
   ]
  },
  {
   "cell_type": "code",
   "execution_count": 7,
   "id": "1429b216",
   "metadata": {},
   "outputs": [
    {
     "data": {
      "text/plain": [
       "{'distributor_id': 4, 'distributor_name': 4, 'country': 2}"
      ]
     },
     "execution_count": 7,
     "metadata": {},
     "output_type": "execute_result"
    }
   ],
   "source": [
    "find_number_of_unique_values_per_column(distributors)"
   ]
  },
  {
   "cell_type": "code",
   "execution_count": null,
   "id": "b5709ff0",
   "metadata": {},
   "outputs": [],
   "source": []
  }
 ],
 "metadata": {
  "kernelspec": {
   "display_name": "champagne-north-america-business-project (3.12.8)",
   "language": "python",
   "name": "python3"
  },
  "language_info": {
   "codemirror_mode": {
    "name": "ipython",
    "version": 3
   },
   "file_extension": ".py",
   "mimetype": "text/x-python",
   "name": "python",
   "nbconvert_exporter": "python",
   "pygments_lexer": "ipython3",
   "version": "3.11.13"
  }
 },
 "nbformat": 4,
 "nbformat_minor": 5
}
