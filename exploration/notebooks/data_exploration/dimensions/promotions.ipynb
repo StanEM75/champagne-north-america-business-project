{
 "cells": [
  {
   "cell_type": "markdown",
   "id": "6b7f29d4",
   "metadata": {},
   "source": [
    "# Promotions Table"
   ]
  },
  {
   "cell_type": "markdown",
   "id": "c3d5adf3",
   "metadata": {},
   "source": [
    "| Name | Type | Granularity | Primary Key | Volumetry | Business Definition |\n",
    "|------|------|-------------|-------------|-----------|-------------------|\n",
    "| promotions | Dimension | Individual promotion | promo_id | 60 rows - 8 columns  | List of promotions on champaign products proposed by the brand that have been realized through retailers |"
   ]
  },
  {
   "cell_type": "markdown",
   "id": "57b3c664",
   "metadata": {},
   "source": [
    "## Imports"
   ]
  },
  {
   "cell_type": "code",
   "execution_count": null,
   "id": "851e933d",
   "metadata": {},
   "outputs": [],
   "source": [
    "# To import data\n",
    "import pandas as pd \n",
    "import numpy as np\n",
    "\n",
    "# To import path to access packages\n",
    "import sys\n",
    "from pathlib import Path\n",
    "\n",
    "# Find the folder containing 'packages'\n",
    "root = next(p for p in Path.cwd().resolve().parents if (p / \"packages\").exists())\n",
    "sys.path.insert(0, str(root))\n",
    "\n",
    "# Functions for data preparation\n",
    "from packages.utils.data_exploration import (\n",
    "    find_primary_key,find_volumetry, find_number_of_unique_values_per_column, \n",
    "    share_of_null, share_of_rows_with_null, share_of_columns_with_null, share_of_null_within_columns\n",
    ")"
   ]
  },
  {
   "cell_type": "code",
   "execution_count": 2,
   "id": "fa30f857",
   "metadata": {},
   "outputs": [],
   "source": [
    "# Import the promotions dataset\n",
    "promotions = pd.read_csv('../../../data/dimensions/promotions.csv')"
   ]
  },
  {
   "cell_type": "code",
   "execution_count": 3,
   "id": "e7790de0",
   "metadata": {},
   "outputs": [
    {
     "data": {
      "text/html": [
       "<div>\n",
       "<style scoped>\n",
       "    .dataframe tbody tr th:only-of-type {\n",
       "        vertical-align: middle;\n",
       "    }\n",
       "\n",
       "    .dataframe tbody tr th {\n",
       "        vertical-align: top;\n",
       "    }\n",
       "\n",
       "    .dataframe thead th {\n",
       "        text-align: right;\n",
       "    }\n",
       "</style>\n",
       "<table border=\"1\" class=\"dataframe\">\n",
       "  <thead>\n",
       "    <tr style=\"text-align: right;\">\n",
       "      <th></th>\n",
       "      <th>promo_id</th>\n",
       "      <th>distributor_id</th>\n",
       "      <th>start_date</th>\n",
       "      <th>end_date</th>\n",
       "      <th>discount_type</th>\n",
       "      <th>discount_value</th>\n",
       "      <th>products</th>\n",
       "      <th>description</th>\n",
       "    </tr>\n",
       "  </thead>\n",
       "  <tbody>\n",
       "    <tr>\n",
       "      <th>0</th>\n",
       "      <td>P1000</td>\n",
       "      <td>D003</td>\n",
       "      <td>07/30/2023</td>\n",
       "      <td>2023-08-10</td>\n",
       "      <td>fixed</td>\n",
       "      <td>3.94</td>\n",
       "      <td>CH-06-1500,CH-05-375,CH-07-750</td>\n",
       "      <td>Local event tie-in</td>\n",
       "    </tr>\n",
       "    <tr>\n",
       "      <th>1</th>\n",
       "      <td>P1001</td>\n",
       "      <td>D004</td>\n",
       "      <td>03/17/2024</td>\n",
       "      <td>2024-03-29</td>\n",
       "      <td>fixed</td>\n",
       "      <td>3.10</td>\n",
       "      <td>CH-03-750</td>\n",
       "      <td>Flash sale</td>\n",
       "    </tr>\n",
       "    <tr>\n",
       "      <th>2</th>\n",
       "      <td>P1002</td>\n",
       "      <td>D004</td>\n",
       "      <td>2024-08-11</td>\n",
       "      <td>2024-08-23</td>\n",
       "      <td>percent</td>\n",
       "      <td>23.71</td>\n",
       "      <td>CH-04-375,CH-04-750</td>\n",
       "      <td>Holiday bundle</td>\n",
       "    </tr>\n",
       "    <tr>\n",
       "      <th>3</th>\n",
       "      <td>P1003</td>\n",
       "      <td>D002</td>\n",
       "      <td>2024-06-02</td>\n",
       "      <td>2024-06-09</td>\n",
       "      <td>fixed</td>\n",
       "      <td>2.75</td>\n",
       "      <td>CH-03-375,CH-04-375,CH-07-1500</td>\n",
       "      <td>Restaurant pairing</td>\n",
       "    </tr>\n",
       "    <tr>\n",
       "      <th>4</th>\n",
       "      <td>P1004</td>\n",
       "      <td>D004</td>\n",
       "      <td>2024-02-25</td>\n",
       "      <td>2024-03-11</td>\n",
       "      <td>percent</td>\n",
       "      <td>16.06</td>\n",
       "      <td>CH-03-1500,CH-07-375,CH-02-375</td>\n",
       "      <td>Local event tie-in</td>\n",
       "    </tr>\n",
       "  </tbody>\n",
       "</table>\n",
       "</div>"
      ],
      "text/plain": [
       "  promo_id distributor_id  start_date    end_date discount_type  \\\n",
       "0    P1000           D003  07/30/2023  2023-08-10         fixed   \n",
       "1    P1001           D004  03/17/2024  2024-03-29         fixed   \n",
       "2    P1002           D004  2024-08-11  2024-08-23       percent   \n",
       "3    P1003           D002  2024-06-02  2024-06-09         fixed   \n",
       "4    P1004           D004  2024-02-25  2024-03-11       percent   \n",
       "\n",
       "   discount_value                        products         description  \n",
       "0            3.94  CH-06-1500,CH-05-375,CH-07-750  Local event tie-in  \n",
       "1            3.10                       CH-03-750          Flash sale  \n",
       "2           23.71             CH-04-375,CH-04-750      Holiday bundle  \n",
       "3            2.75  CH-03-375,CH-04-375,CH-07-1500  Restaurant pairing  \n",
       "4           16.06  CH-03-1500,CH-07-375,CH-02-375  Local event tie-in  "
      ]
     },
     "execution_count": 3,
     "metadata": {},
     "output_type": "execute_result"
    }
   ],
   "source": [
    "# Print the first rows\n",
    "promotions.head()"
   ]
  },
  {
   "cell_type": "markdown",
   "id": "f7f77986",
   "metadata": {},
   "source": [
    "## Analyze the table"
   ]
  },
  {
   "cell_type": "markdown",
   "id": "87835977",
   "metadata": {},
   "source": [
    "### Find the primary key"
   ]
  },
  {
   "cell_type": "code",
   "execution_count": 4,
   "id": "997653f7",
   "metadata": {},
   "outputs": [
    {
     "data": {
      "text/plain": [
       "['promo_id', 'start_date']"
      ]
     },
     "execution_count": 4,
     "metadata": {},
     "output_type": "execute_result"
    }
   ],
   "source": [
    "# Utilize the find_primary_key from the data_exploration package to obtain the primary key\n",
    "find_primary_key(promotions)"
   ]
  },
  {
   "cell_type": "markdown",
   "id": "466d68e4",
   "metadata": {},
   "source": [
    "The granularity of the table is the individual promotion, identified by its id."
   ]
  },
  {
   "cell_type": "markdown",
   "id": "60463e49",
   "metadata": {},
   "source": [
    "### Volumetry"
   ]
  },
  {
   "cell_type": "code",
   "execution_count": 5,
   "id": "16a96c42",
   "metadata": {},
   "outputs": [
    {
     "name": "stdout",
     "output_type": "stream",
     "text": [
      "There are 60 rows in the dataset.\n"
     ]
    }
   ],
   "source": [
    "# Utilize the find_volumetry from the data_exploration package to obtain the number of rows\n",
    "print(f\"There are {find_volumetry(promotions)} rows in the dataset.\")"
   ]
  },
  {
   "cell_type": "markdown",
   "id": "658cae8c",
   "metadata": {},
   "source": [
    "### Number of unique values per column"
   ]
  },
  {
   "cell_type": "code",
   "execution_count": 6,
   "id": "5da7334b",
   "metadata": {},
   "outputs": [
    {
     "name": "stdout",
     "output_type": "stream",
     "text": [
      "   promo_id  distributor_id  start_date  end_date  discount_type  \\\n",
      "0        60               4          60        50              2   \n",
      "\n",
      "   discount_value  products  description  \n",
      "0              58        54            5  \n"
     ]
    }
   ],
   "source": [
    "print(find_number_of_unique_values_per_column(promotions))"
   ]
  },
  {
   "cell_type": "markdown",
   "id": "b424be0d",
   "metadata": {},
   "source": [
    "### Number of null values per column"
   ]
  },
  {
   "cell_type": "code",
   "execution_count": 7,
   "id": "329223e1",
   "metadata": {},
   "outputs": [
    {
     "name": "stdout",
     "output_type": "stream",
     "text": [
      "   promo_id  distributor_id  start_date  end_date  discount_type  \\\n",
      "0         0               0           0         9              0   \n",
      "\n",
      "   discount_value  products  description  \n",
      "0               0         0            0  \n"
     ]
    }
   ],
   "source": [
    "print(share_of_null_within_columns(promotions))"
   ]
  },
  {
   "cell_type": "markdown",
   "id": "09aae35a",
   "metadata": {},
   "source": [
    "### Percentage of null cells"
   ]
  },
  {
   "cell_type": "code",
   "execution_count": 8,
   "id": "deb994f6",
   "metadata": {},
   "outputs": [
    {
     "name": "stdout",
     "output_type": "stream",
     "text": [
      "The share of null cells within the dataframe is 0.02%.\n"
     ]
    }
   ],
   "source": [
    "# Utilize the find_number_of_unique_values_per_column from the data_exploration package to obtain the % of null cells\n",
    "print(f\"The share of null cells within the dataframe is {share_of_null(promotions)}%.\")"
   ]
  },
  {
   "cell_type": "code",
   "execution_count": null,
   "id": "348791ad",
   "metadata": {},
   "outputs": [],
   "source": []
  }
 ],
 "metadata": {
  "kernelspec": {
   "display_name": "champagne-north-america-business-project (3.12.8)",
   "language": "python",
   "name": "python3"
  },
  "language_info": {
   "codemirror_mode": {
    "name": "ipython",
    "version": 3
   },
   "file_extension": ".py",
   "mimetype": "text/x-python",
   "name": "python",
   "nbconvert_exporter": "python",
   "pygments_lexer": "ipython3",
   "version": "3.11.13"
  }
 },
 "nbformat": 4,
 "nbformat_minor": 5
}
