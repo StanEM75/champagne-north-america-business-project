{
 "cells": [
  {
   "cell_type": "markdown",
   "id": "b44d0bca",
   "metadata": {},
   "source": [
    "## Imports"
   ]
  },
  {
   "cell_type": "code",
   "execution_count": 17,
   "id": "0da1f8b8",
   "metadata": {},
   "outputs": [],
   "source": [
    "# To import data\n",
    "import pandas as pd \n",
    "import numpy as np\n",
    "\n",
    "# Functions for data preparation\n",
    "from packages.utils.data_exploration import find_primary_key,find_volumetry, find_number_of_unique_values_per_column, share_of_null, share_of_rows_with_null, share_of_columns_with_null"
   ]
  },
  {
   "cell_type": "code",
   "execution_count": 21,
   "id": "f722ba14",
   "metadata": {},
   "outputs": [],
   "source": [
    "# Import the external_events dataset\n",
    "market_top_sellers = pd.read_csv('../../../data/dimensions/market_top_sellers_proxy.csv')"
   ]
  },
  {
   "cell_type": "code",
   "execution_count": 3,
   "id": "dc745ef1",
   "metadata": {},
   "outputs": [
    {
     "data": {
      "text/html": [
       "<div>\n",
       "<style scoped>\n",
       "    .dataframe tbody tr th:only-of-type {\n",
       "        vertical-align: middle;\n",
       "    }\n",
       "\n",
       "    .dataframe tbody tr th {\n",
       "        vertical-align: top;\n",
       "    }\n",
       "\n",
       "    .dataframe thead th {\n",
       "        text-align: right;\n",
       "    }\n",
       "</style>\n",
       "<table border=\"1\" class=\"dataframe\">\n",
       "  <thead>\n",
       "    <tr style=\"text-align: right;\">\n",
       "      <th></th>\n",
       "      <th>period</th>\n",
       "      <th>region</th>\n",
       "      <th>category</th>\n",
       "      <th>top_brand</th>\n",
       "      <th>est_units</th>\n",
       "    </tr>\n",
       "  </thead>\n",
       "  <tbody>\n",
       "    <tr>\n",
       "      <th>0</th>\n",
       "      <td>2023-01</td>\n",
       "      <td>USA</td>\n",
       "      <td>Champagne</td>\n",
       "      <td>Royal Bubbles</td>\n",
       "      <td>672</td>\n",
       "    </tr>\n",
       "    <tr>\n",
       "      <th>1</th>\n",
       "      <td>2023-01</td>\n",
       "      <td>USA</td>\n",
       "      <td>Prosecco</td>\n",
       "      <td>Cali Sparkle</td>\n",
       "      <td>1146</td>\n",
       "    </tr>\n",
       "    <tr>\n",
       "      <th>2</th>\n",
       "      <td>2023-01</td>\n",
       "      <td>USA</td>\n",
       "      <td>Sparkling Wine</td>\n",
       "      <td>Cali Sparkle</td>\n",
       "      <td>1076</td>\n",
       "    </tr>\n",
       "    <tr>\n",
       "      <th>3</th>\n",
       "      <td>2023-01</td>\n",
       "      <td>Canada</td>\n",
       "      <td>Champagne</td>\n",
       "      <td>Royal Bubbles</td>\n",
       "      <td>687</td>\n",
       "    </tr>\n",
       "    <tr>\n",
       "      <th>4</th>\n",
       "      <td>2023-01</td>\n",
       "      <td>Canada</td>\n",
       "      <td>Prosecco</td>\n",
       "      <td>Maison Étoile</td>\n",
       "      <td>929</td>\n",
       "    </tr>\n",
       "  </tbody>\n",
       "</table>\n",
       "</div>"
      ],
      "text/plain": [
       "    period  region        category      top_brand  est_units\n",
       "0  2023-01     USA       Champagne  Royal Bubbles        672\n",
       "1  2023-01     USA        Prosecco   Cali Sparkle       1146\n",
       "2  2023-01     USA  Sparkling Wine   Cali Sparkle       1076\n",
       "3  2023-01  Canada       Champagne  Royal Bubbles        687\n",
       "4  2023-01  Canada        Prosecco  Maison Étoile        929"
      ]
     },
     "execution_count": 3,
     "metadata": {},
     "output_type": "execute_result"
    }
   ],
   "source": [
    "# Print the first rows\n",
    "market_top_sellers.head()"
   ]
  },
  {
   "cell_type": "markdown",
   "id": "957b446d",
   "metadata": {},
   "source": [
    "## Analyze the table"
   ]
  },
  {
   "cell_type": "markdown",
   "id": "c216ad50",
   "metadata": {},
   "source": [
    "### Find the primary key"
   ]
  },
  {
   "cell_type": "code",
   "execution_count": 4,
   "id": "1a4425f2",
   "metadata": {},
   "outputs": [
    {
     "data": {
      "text/plain": [
       "[]"
      ]
     },
     "execution_count": 4,
     "metadata": {},
     "output_type": "execute_result"
    }
   ],
   "source": [
    "# Utilize the find_primary_key from the data_exploration package to obtain the primary key\n",
    "find_primary_key(market_top_sellers)"
   ]
  },
  {
   "cell_type": "markdown",
   "id": "45b48ee6",
   "metadata": {},
   "source": [
    "The granularity of the table is the individual distributor."
   ]
  },
  {
   "cell_type": "markdown",
   "id": "8f08f756",
   "metadata": {},
   "source": [
    "### Volumetry"
   ]
  },
  {
   "cell_type": "code",
   "execution_count": 5,
   "id": "e66e759c",
   "metadata": {},
   "outputs": [
    {
     "name": "stdout",
     "output_type": "stream",
     "text": [
      "There are 216 rows in the dataset.\n"
     ]
    }
   ],
   "source": [
    "# Utilize the find_volumetry from the data_exploration package to obtain the number of rows\n",
    "print(f\"There are {find_volumetry(market_top_sellers)} rows in the dataset.\")"
   ]
  },
  {
   "cell_type": "markdown",
   "id": "838218ef",
   "metadata": {},
   "source": [
    "### Number of unique values per column"
   ]
  },
  {
   "cell_type": "code",
   "execution_count": 11,
   "id": "92c881b3",
   "metadata": {},
   "outputs": [
    {
     "name": "stdout",
     "output_type": "stream",
     "text": [
      "   period  region  category  top_brand  est_units\n",
      "0      36       2         3          4        183\n"
     ]
    }
   ],
   "source": [
    "print(find_number_of_unique_values_per_column(market_top_sellers))"
   ]
  },
  {
   "cell_type": "markdown",
   "id": "463f31d5",
   "metadata": {},
   "source": [
    "### Number of unique values per column"
   ]
  },
  {
   "cell_type": "code",
   "execution_count": 12,
   "id": "d8abfb0b",
   "metadata": {},
   "outputs": [
    {
     "ename": "NameError",
     "evalue": "name 'share_of_null_within_columns' is not defined",
     "output_type": "error",
     "traceback": [
      "\u001b[31m---------------------------------------------------------------------------\u001b[39m",
      "\u001b[31mNameError\u001b[39m                                 Traceback (most recent call last)",
      "\u001b[36mCell\u001b[39m\u001b[36m \u001b[39m\u001b[32mIn[12]\u001b[39m\u001b[32m, line 1\u001b[39m\n\u001b[32m----> \u001b[39m\u001b[32m1\u001b[39m \u001b[38;5;28mprint\u001b[39m(\u001b[43mshare_of_null_within_columns\u001b[49m(market_top_sellers))\n",
      "\u001b[31mNameError\u001b[39m: name 'share_of_null_within_columns' is not defined"
     ]
    }
   ],
   "source": [
    "#print(share_of_null_within_columns(market_top_sellers))"
   ]
  },
  {
   "cell_type": "markdown",
   "id": "389dfd4a",
   "metadata": {},
   "source": [
    "### Percentage of null cells"
   ]
  },
  {
   "cell_type": "code",
   "execution_count": 20,
   "id": "36587a91",
   "metadata": {},
   "outputs": [
    {
     "name": "stdout",
     "output_type": "stream",
     "text": [
      "0.0\n"
     ]
    }
   ],
   "source": [
    "# Utilize the find_number_of_unique_values_per_column from the data_exploration package to obtain the % of null cells\n",
    "print(share_of_null(market_top_sellers))"
   ]
  },
  {
   "cell_type": "markdown",
   "id": "b1e7731a",
   "metadata": {},
   "source": [
    "## Transform data"
   ]
  },
  {
   "cell_type": "markdown",
   "id": "463c2500",
   "metadata": {},
   "source": [
    "### Rename period into selling_period_for_competitors and cast it as a date"
   ]
  },
  {
   "cell_type": "code",
   "execution_count": null,
   "id": "310a70fa",
   "metadata": {},
   "outputs": [],
   "source": [
    "market_top_sellersperiod"
   ]
  }
 ],
 "metadata": {
  "kernelspec": {
   "display_name": "champagne-north-america-business-project (3.12.8)",
   "language": "python",
   "name": "python3"
  },
  "language_info": {
   "codemirror_mode": {
    "name": "ipython",
    "version": 3
   },
   "file_extension": ".py",
   "mimetype": "text/x-python",
   "name": "python",
   "nbconvert_exporter": "python",
   "pygments_lexer": "ipython3",
   "version": "3.11.13"
  }
 },
 "nbformat": 4,
 "nbformat_minor": 5
}
