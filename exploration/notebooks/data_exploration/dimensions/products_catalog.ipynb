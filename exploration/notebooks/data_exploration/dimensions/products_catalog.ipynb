{
 "cells": [
  {
   "cell_type": "markdown",
   "id": "7ff5009a",
   "metadata": {},
   "source": [
    "# Products_catalog table"
   ]
  },
  {
   "cell_type": "markdown",
   "id": "90d81e86",
   "metadata": {},
   "source": [
    "| Name | Type | Granularity | Primary Key | Volumetry | Business Definition |\n",
    "|------|------|-------------|-------------|-----------|-------------------|\n",
    "| products_catalog | Dimension | Individual product (SKU) | sku | 21 rows - 9 columns  | List of products sold in North America by our champaign brand. |"
   ]
  },
  {
   "cell_type": "markdown",
   "id": "fbd84bcd",
   "metadata": {},
   "source": [
    "## Imports"
   ]
  },
  {
   "cell_type": "code",
   "execution_count": null,
   "id": "c1682a65",
   "metadata": {},
   "outputs": [],
   "source": [
    "# To import data\n",
    "import pandas as pd \n",
    "import numpy as np\n",
    "\n",
    "# To import path to access packages\n",
    "import sys\n",
    "from pathlib import Path\n",
    "\n",
    "# Find the folder containing 'packages'\n",
    "root = next(p for p in Path.cwd().resolve().parents if (p / \"packages\").exists())\n",
    "sys.path.insert(0, str(root))\n",
    "\n",
    "# Functions for data preparation\n",
    "from packages.utils.data_exploration import (\n",
    "    find_primary_key,find_volumetry, find_number_of_unique_values_per_column, \n",
    "    share_of_null, share_of_rows_with_null, share_of_columns_with_null, share_of_null_within_columns\n",
    ")"
   ]
  },
  {
   "cell_type": "code",
   "execution_count": 3,
   "id": "63c86399",
   "metadata": {},
   "outputs": [],
   "source": [
    "# Import the products_catalog dataset\n",
    "products_catalog = pd.read_csv('../../../data/dimensions/product_catalog.csv')"
   ]
  },
  {
   "cell_type": "code",
   "execution_count": 4,
   "id": "ae74b605",
   "metadata": {},
   "outputs": [
    {
     "data": {
      "text/html": [
       "<div>\n",
       "<style scoped>\n",
       "    .dataframe tbody tr th:only-of-type {\n",
       "        vertical-align: middle;\n",
       "    }\n",
       "\n",
       "    .dataframe tbody tr th {\n",
       "        vertical-align: top;\n",
       "    }\n",
       "\n",
       "    .dataframe thead th {\n",
       "        text-align: right;\n",
       "    }\n",
       "</style>\n",
       "<table border=\"1\" class=\"dataframe\">\n",
       "  <thead>\n",
       "    <tr style=\"text-align: right;\">\n",
       "      <th></th>\n",
       "      <th>sku</th>\n",
       "      <th>brand</th>\n",
       "      <th>cuvée</th>\n",
       "      <th>bottle_size_ml</th>\n",
       "      <th>category</th>\n",
       "      <th>upc</th>\n",
       "      <th>list_price_usd</th>\n",
       "      <th>list_price_cad</th>\n",
       "      <th>launch_date</th>\n",
       "    </tr>\n",
       "  </thead>\n",
       "  <tbody>\n",
       "    <tr>\n",
       "      <th>0</th>\n",
       "      <td>CH-01-375</td>\n",
       "      <td>Maison Étoile</td>\n",
       "      <td>Brut Tradition</td>\n",
       "      <td>375</td>\n",
       "      <td>Champagne</td>\n",
       "      <td>800000000000</td>\n",
       "      <td>36.48</td>\n",
       "      <td>47.88</td>\n",
       "      <td>2020-05-08</td>\n",
       "    </tr>\n",
       "    <tr>\n",
       "      <th>1</th>\n",
       "      <td>CH-01-750</td>\n",
       "      <td>Maison Étoile</td>\n",
       "      <td>Brut Tradition</td>\n",
       "      <td>750</td>\n",
       "      <td>Champagne</td>\n",
       "      <td>800000000001</td>\n",
       "      <td>61.41</td>\n",
       "      <td>83.80</td>\n",
       "      <td>2024-01-18</td>\n",
       "    </tr>\n",
       "    <tr>\n",
       "      <th>2</th>\n",
       "      <td>CH-01-1500</td>\n",
       "      <td>Maison Étoile</td>\n",
       "      <td>Brut Tradition</td>\n",
       "      <td>1500</td>\n",
       "      <td>Champagne</td>\n",
       "      <td>800000000002</td>\n",
       "      <td>130.83</td>\n",
       "      <td>174.71</td>\n",
       "      <td>2015-09-02</td>\n",
       "    </tr>\n",
       "    <tr>\n",
       "      <th>3</th>\n",
       "      <td>CH-02-375</td>\n",
       "      <td>Maison Étoile</td>\n",
       "      <td>Brut Rosé</td>\n",
       "      <td>375</td>\n",
       "      <td>Champagne</td>\n",
       "      <td>800000000100</td>\n",
       "      <td>33.54</td>\n",
       "      <td>44.60</td>\n",
       "      <td>2015-09-02</td>\n",
       "    </tr>\n",
       "    <tr>\n",
       "      <th>4</th>\n",
       "      <td>CH-02-750</td>\n",
       "      <td>Maison Étoile</td>\n",
       "      <td>Brut Rosé</td>\n",
       "      <td>750</td>\n",
       "      <td>Champagne</td>\n",
       "      <td>800000000101</td>\n",
       "      <td>58.58</td>\n",
       "      <td>78.41</td>\n",
       "      <td>2024-07-16</td>\n",
       "    </tr>\n",
       "  </tbody>\n",
       "</table>\n",
       "</div>"
      ],
      "text/plain": [
       "          sku          brand           cuvée  bottle_size_ml   category  \\\n",
       "0   CH-01-375  Maison Étoile  Brut Tradition             375  Champagne   \n",
       "1   CH-01-750  Maison Étoile  Brut Tradition             750  Champagne   \n",
       "2  CH-01-1500  Maison Étoile  Brut Tradition            1500  Champagne   \n",
       "3   CH-02-375  Maison Étoile       Brut Rosé             375  Champagne   \n",
       "4   CH-02-750  Maison Étoile       Brut Rosé             750  Champagne   \n",
       "\n",
       "            upc  list_price_usd  list_price_cad launch_date  \n",
       "0  800000000000           36.48           47.88  2020-05-08  \n",
       "1  800000000001           61.41           83.80  2024-01-18  \n",
       "2  800000000002          130.83          174.71  2015-09-02  \n",
       "3  800000000100           33.54           44.60  2015-09-02  \n",
       "4  800000000101           58.58           78.41  2024-07-16  "
      ]
     },
     "execution_count": 4,
     "metadata": {},
     "output_type": "execute_result"
    }
   ],
   "source": [
    "# Print the first rows\n",
    "products_catalog.head()"
   ]
  },
  {
   "cell_type": "markdown",
   "id": "f030fe1b",
   "metadata": {},
   "source": [
    "## Analyze the table"
   ]
  },
  {
   "cell_type": "markdown",
   "id": "6ee3b90c",
   "metadata": {},
   "source": [
    "### Find the primary key"
   ]
  },
  {
   "cell_type": "code",
   "execution_count": 5,
   "id": "cc765383",
   "metadata": {},
   "outputs": [
    {
     "data": {
      "text/plain": [
       "['sku', 'upc', 'list_price_usd', 'list_price_cad']"
      ]
     },
     "execution_count": 5,
     "metadata": {},
     "output_type": "execute_result"
    }
   ],
   "source": [
    "# Utilize the find_primary_key from the data_exploration package to obtain the primary key\n",
    "find_primary_key(products_catalog)"
   ]
  },
  {
   "cell_type": "markdown",
   "id": "cb7617f9",
   "metadata": {},
   "source": [
    "The granularity of the table is the Standard Key Unit, or individual product."
   ]
  },
  {
   "cell_type": "markdown",
   "id": "8ef69a16",
   "metadata": {},
   "source": [
    "### Volumetry"
   ]
  },
  {
   "cell_type": "code",
   "execution_count": 6,
   "id": "0e695a71",
   "metadata": {},
   "outputs": [
    {
     "name": "stdout",
     "output_type": "stream",
     "text": [
      "There are 21 rows in the dataset.\n"
     ]
    }
   ],
   "source": [
    "# Utilize the find_volumetry from the data_exploration package to obtain the number of rows\n",
    "print(f\"There are {find_volumetry(products_catalog)} rows in the dataset.\")"
   ]
  },
  {
   "cell_type": "markdown",
   "id": "9055fa3d",
   "metadata": {},
   "source": [
    "### Number of unique values per column"
   ]
  },
  {
   "cell_type": "code",
   "execution_count": 7,
   "id": "0071c6d9",
   "metadata": {},
   "outputs": [
    {
     "name": "stdout",
     "output_type": "stream",
     "text": [
      "   sku  brand  cuvée  bottle_size_ml  category  upc  list_price_usd  \\\n",
      "0   21      1      7               3         1   21              21   \n",
      "\n",
      "   list_price_cad  launch_date  \n",
      "0              21           16  \n"
     ]
    }
   ],
   "source": [
    "print(find_number_of_unique_values_per_column(products_catalog))"
   ]
  },
  {
   "cell_type": "markdown",
   "id": "f47e52ba",
   "metadata": {},
   "source": [
    "### Number of unique values per column"
   ]
  },
  {
   "cell_type": "code",
   "execution_count": 9,
   "id": "c8133ec5",
   "metadata": {},
   "outputs": [
    {
     "name": "stdout",
     "output_type": "stream",
     "text": [
      "   sku  brand  cuvée  bottle_size_ml  category  upc  list_price_usd  \\\n",
      "0    0      0      0               0         0    0               0   \n",
      "\n",
      "   list_price_cad  launch_date  \n",
      "0               0            0  \n"
     ]
    }
   ],
   "source": [
    "print(share_of_null_within_columns(products_catalog))"
   ]
  },
  {
   "cell_type": "markdown",
   "id": "fea6a7de",
   "metadata": {},
   "source": [
    "### Percentage of null cells"
   ]
  },
  {
   "cell_type": "code",
   "execution_count": 12,
   "id": "0f632528",
   "metadata": {},
   "outputs": [
    {
     "name": "stdout",
     "output_type": "stream",
     "text": [
      "The share of null cells within the dataframe is 0.0%.\n"
     ]
    }
   ],
   "source": [
    "# Utilize the find_number_of_unique_values_per_column from the data_exploration package to obtain the % of null cells\n",
    "print(f\"The share of null cells within the dataframe is {share_of_null(products_catalog)}%.\")"
   ]
  },
  {
   "cell_type": "code",
   "execution_count": null,
   "id": "93f38e58",
   "metadata": {},
   "outputs": [],
   "source": []
  }
 ],
 "metadata": {
  "kernelspec": {
   "display_name": "champagne-north-america-business-project (3.12.8)",
   "language": "python",
   "name": "python3"
  },
  "language_info": {
   "codemirror_mode": {
    "name": "ipython",
    "version": 3
   },
   "file_extension": ".py",
   "mimetype": "text/x-python",
   "name": "python",
   "nbconvert_exporter": "python",
   "pygments_lexer": "ipython3",
   "version": "3.11.13"
  }
 },
 "nbformat": 4,
 "nbformat_minor": 5
}
