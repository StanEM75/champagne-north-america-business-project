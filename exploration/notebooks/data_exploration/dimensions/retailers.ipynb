{
 "cells": [
  {
   "cell_type": "markdown",
   "id": "9307efc9",
   "metadata": {
    "vscode": {
     "languageId": "plaintext"
    }
   },
   "source": [
    "# Retailers table"
   ]
  },
  {
   "cell_type": "markdown",
   "id": "c5f284ea",
   "metadata": {},
   "source": [
    "| Name | Type | Granularity | Primary Key | Volumetry | Business Definition |\n",
    "|------|------|-------------|-------------|-----------|-------------------|\n",
    "| products_catalog | Dimension | Individual product (SKU) | sku | 21 rows - 9 columns  | List of products sold in North America by the champaign brand |"
   ]
  },
  {
   "cell_type": "markdown",
   "id": "1794ba33",
   "metadata": {
    "vscode": {
     "languageId": "plaintext"
    }
   },
   "source": [
    "## Imports"
   ]
  },
  {
   "cell_type": "code",
   "execution_count": 1,
   "id": "be0a7d38",
   "metadata": {},
   "outputs": [],
   "source": [
    "# To import data\n",
    "import pandas as pd \n",
    "import numpy as np\n",
    "\n",
    "# To import path to access packages\n",
    "import sys\n",
    "from pathlib import Path\n",
    "\n",
    "# Find the folder containing 'packages'\n",
    "root = next(p for p in Path.cwd().resolve().parents if (p / \"packages\").exists())\n",
    "sys.path.insert(0, str(root))\n",
    "\n",
    "# Functions for data preparation\n",
    "from packages.utils.data_exploration import (\n",
    "    find_primary_key,find_volumetry, find_number_of_unique_values_per_column, \n",
    "    share_of_null, share_of_rows_with_null, share_of_columns_with_null, share_of_null_within_columns\n",
    ")"
   ]
  },
  {
   "cell_type": "markdown",
   "id": "78c9f5f0",
   "metadata": {},
   "source": []
  },
  {
   "cell_type": "code",
   "execution_count": 2,
   "id": "25e95797",
   "metadata": {},
   "outputs": [],
   "source": [
    "# Import the retailers dataset\n",
    "retailers = pd.read_csv('../../../data/dimensions/retailers.csv')"
   ]
  },
  {
   "cell_type": "code",
   "execution_count": 3,
   "id": "16f614fe",
   "metadata": {},
   "outputs": [
    {
     "data": {
      "text/html": [
       "<div>\n",
       "<style scoped>\n",
       "    .dataframe tbody tr th:only-of-type {\n",
       "        vertical-align: middle;\n",
       "    }\n",
       "\n",
       "    .dataframe tbody tr th {\n",
       "        vertical-align: top;\n",
       "    }\n",
       "\n",
       "    .dataframe thead th {\n",
       "        text-align: right;\n",
       "    }\n",
       "</style>\n",
       "<table border=\"1\" class=\"dataframe\">\n",
       "  <thead>\n",
       "    <tr style=\"text-align: right;\">\n",
       "      <th></th>\n",
       "      <th>retailer_id</th>\n",
       "      <th>retailer_name</th>\n",
       "      <th>country</th>\n",
       "      <th>type</th>\n",
       "    </tr>\n",
       "  </thead>\n",
       "  <tbody>\n",
       "    <tr>\n",
       "      <th>0</th>\n",
       "      <td>R0001</td>\n",
       "      <td>WholeBev</td>\n",
       "      <td>USA</td>\n",
       "      <td>Retailer</td>\n",
       "    </tr>\n",
       "    <tr>\n",
       "      <th>1</th>\n",
       "      <td>R0002</td>\n",
       "      <td>CityCellars</td>\n",
       "      <td>USA</td>\n",
       "      <td>Retailer</td>\n",
       "    </tr>\n",
       "    <tr>\n",
       "      <th>2</th>\n",
       "      <td>R0003</td>\n",
       "      <td>GoldenBottle</td>\n",
       "      <td>USA</td>\n",
       "      <td>Retailer</td>\n",
       "    </tr>\n",
       "    <tr>\n",
       "      <th>3</th>\n",
       "      <td>R0004</td>\n",
       "      <td>LiquorKing</td>\n",
       "      <td>USA</td>\n",
       "      <td>Retailer</td>\n",
       "    </tr>\n",
       "    <tr>\n",
       "      <th>4</th>\n",
       "      <td>R0005</td>\n",
       "      <td>FineWineNYC</td>\n",
       "      <td>USA</td>\n",
       "      <td>Retailer</td>\n",
       "    </tr>\n",
       "  </tbody>\n",
       "</table>\n",
       "</div>"
      ],
      "text/plain": [
       "  retailer_id retailer_name country      type\n",
       "0       R0001      WholeBev     USA  Retailer\n",
       "1       R0002   CityCellars     USA  Retailer\n",
       "2       R0003  GoldenBottle     USA  Retailer\n",
       "3       R0004    LiquorKing     USA  Retailer\n",
       "4       R0005   FineWineNYC     USA  Retailer"
      ]
     },
     "execution_count": 3,
     "metadata": {},
     "output_type": "execute_result"
    }
   ],
   "source": [
    "# Print the first rows\n",
    "retailers.head()"
   ]
  },
  {
   "cell_type": "markdown",
   "id": "3357f530",
   "metadata": {},
   "source": [
    "## Analyze the table"
   ]
  },
  {
   "cell_type": "markdown",
   "id": "cb10e045",
   "metadata": {},
   "source": [
    "### Find the primary key"
   ]
  },
  {
   "cell_type": "code",
   "execution_count": 4,
   "id": "e12d2f3b",
   "metadata": {},
   "outputs": [
    {
     "data": {
      "text/plain": [
       "['retailer_id', 'retailer_name']"
      ]
     },
     "execution_count": 4,
     "metadata": {},
     "output_type": "execute_result"
    }
   ],
   "source": [
    "# Utilize the find_primary_key from the data_exploration package to obtain the primary key\n",
    "find_primary_key(retailers)"
   ]
  },
  {
   "cell_type": "markdown",
   "id": "919f46ea",
   "metadata": {},
   "source": [
    "The granularity of the table is the individual retailer."
   ]
  },
  {
   "cell_type": "markdown",
   "id": "c7ed77c1",
   "metadata": {},
   "source": [
    "### Volumetry"
   ]
  },
  {
   "cell_type": "code",
   "execution_count": 5,
   "id": "fbb652a0",
   "metadata": {},
   "outputs": [
    {
     "name": "stdout",
     "output_type": "stream",
     "text": [
      "There are 18 rows in the dataset.\n"
     ]
    }
   ],
   "source": [
    "# Utilize the find_volumetry from the data_exploration package to obtain the number of rows\n",
    "print(f\"There are {find_volumetry(retailers)} rows in the dataset.\")"
   ]
  },
  {
   "cell_type": "markdown",
   "id": "97bb59f2",
   "metadata": {},
   "source": [
    "### Number of unique values per column"
   ]
  },
  {
   "cell_type": "code",
   "execution_count": 6,
   "id": "557e1667",
   "metadata": {},
   "outputs": [
    {
     "name": "stdout",
     "output_type": "stream",
     "text": [
      "The number of unique values in the column retailer_id is 0    18\n",
      "Name: retailer_id, dtype: int64.\n",
      "The number of unique values in the column retailer_name is 0    18\n",
      "Name: retailer_name, dtype: int64.\n",
      "The number of unique values in the column country is 0    2\n",
      "Name: country, dtype: int64.\n",
      "The number of unique values in the column type is 0    2\n",
      "Name: type, dtype: int64.\n"
     ]
    }
   ],
   "source": [
    "# Count the number of unique values for each column in the dataset 'retailers'\n",
    "unique_counts = find_number_of_unique_values_per_column(retailers)\n",
    "\n",
    "# Print results\n",
    "for col in retailers.columns:\n",
    "    print(f\"The number of unique values in the column {col} is {unique_counts[col]}.\")"
   ]
  },
  {
   "cell_type": "markdown",
   "id": "891642cf",
   "metadata": {},
   "source": [
    "### Check that the included countries are the good ones"
   ]
  },
  {
   "cell_type": "code",
   "execution_count": 7,
   "id": "5d1452ea",
   "metadata": {},
   "outputs": [
    {
     "name": "stdout",
     "output_type": "stream",
     "text": [
      "['USA' 'Canada']\n"
     ]
    }
   ],
   "source": [
    "# We should get only USA and Canada\n",
    "print(retailers['country'].unique())"
   ]
  },
  {
   "cell_type": "markdown",
   "id": "aee5155e",
   "metadata": {},
   "source": [
    "## Check the different retailers types"
   ]
  },
  {
   "cell_type": "code",
   "execution_count": 8,
   "id": "584c18a0",
   "metadata": {},
   "outputs": [
    {
     "name": "stdout",
     "output_type": "stream",
     "text": [
      "['Retailer' 'Restaurant']\n"
     ]
    }
   ],
   "source": [
    "# We should get only USA and Canada\n",
    "print(retailers['type'].unique())"
   ]
  }
 ],
 "metadata": {
  "kernelspec": {
   "display_name": "champagne-north-america-business-project (3.11.13)",
   "language": "python",
   "name": "python3"
  },
  "language_info": {
   "codemirror_mode": {
    "name": "ipython",
    "version": 3
   },
   "file_extension": ".py",
   "mimetype": "text/x-python",
   "name": "python",
   "nbconvert_exporter": "python",
   "pygments_lexer": "ipython3",
   "version": "3.11.13"
  }
 },
 "nbformat": 4,
 "nbformat_minor": 5
}
