{
 "cells": [
  {
   "cell_type": "markdown",
   "id": "5d07a8cf",
   "metadata": {},
   "source": [
    "# Distributors Table"
   ]
  },
  {
   "cell_type": "markdown",
   "id": "90a02bf0",
   "metadata": {},
   "source": [
    "| Name | Type | Granularity | Primary Key | Volumetry | Business Definition |\n",
    "|------|------|-------------|-------------|-----------|-------------------|\n",
    "| distributors | Dimensions | Individual distributor | distributor_id | 32 rows - 7 columns | List of major events that could have an influence on champagne sales in North America. |"
   ]
  },
  {
   "cell_type": "markdown",
   "id": "1d191368",
   "metadata": {},
   "source": [
    "## Imports"
   ]
  },
  {
   "cell_type": "code",
   "execution_count": 6,
   "id": "abde2a3e",
   "metadata": {},
   "outputs": [],
   "source": [
    "# To import data\n",
    "import pandas as pd \n",
    "import numpy as np\n",
    "\n",
    "# To import path to access packages\n",
    "import sys\n",
    "from pathlib import Path\n",
    "\n",
    "# Find the folder containing 'packages'\n",
    "root = next(p for p in Path.cwd().resolve().parents if (p / \"packages\").exists())\n",
    "sys.path.insert(0, str(root))\n",
    "\n",
    "# Functions for data preparation\n",
    "from packages.utils.data_exploration import (\n",
    "    find_primary_key,find_volumetry, find_number_of_unique_values_per_column, \n",
    "    share_of_null, share_of_rows_with_null, share_of_columns_with_null, share_of_null_within_columns\n",
    ")"
   ]
  },
  {
   "cell_type": "code",
   "execution_count": 7,
   "id": "7121e9d2",
   "metadata": {},
   "outputs": [],
   "source": [
    "# Import the external_events dataset\n",
    "external_events = pd.read_csv('../../../data/dimensions/external_events.csv')"
   ]
  },
  {
   "cell_type": "code",
   "execution_count": 109,
   "id": "4ca59893",
   "metadata": {},
   "outputs": [
    {
     "data": {
      "text/html": [
       "<div>\n",
       "<style scoped>\n",
       "    .dataframe tbody tr th:only-of-type {\n",
       "        vertical-align: middle;\n",
       "    }\n",
       "\n",
       "    .dataframe tbody tr th {\n",
       "        vertical-align: top;\n",
       "    }\n",
       "\n",
       "    .dataframe thead th {\n",
       "        text-align: right;\n",
       "    }\n",
       "</style>\n",
       "<table border=\"1\" class=\"dataframe\">\n",
       "  <thead>\n",
       "    <tr style=\"text-align: right;\">\n",
       "      <th></th>\n",
       "      <th>date</th>\n",
       "      <th>country</th>\n",
       "      <th>region/state</th>\n",
       "      <th>event_name</th>\n",
       "      <th>event_type</th>\n",
       "      <th>impact_score</th>\n",
       "      <th>source</th>\n",
       "    </tr>\n",
       "  </thead>\n",
       "  <tbody>\n",
       "    <tr>\n",
       "      <th>0</th>\n",
       "      <td>12/31/2023</td>\n",
       "      <td>USA</td>\n",
       "      <td>NaN</td>\n",
       "      <td>New Years Eve</td>\n",
       "      <td>holiday</td>\n",
       "      <td>0.95</td>\n",
       "      <td>public_holidays</td>\n",
       "    </tr>\n",
       "    <tr>\n",
       "      <th>1</th>\n",
       "      <td>2023-02-14</td>\n",
       "      <td>USA</td>\n",
       "      <td>NaN</td>\n",
       "      <td>Valentine’s Day</td>\n",
       "      <td>holiday</td>\n",
       "      <td>0.55</td>\n",
       "      <td>public_holidays</td>\n",
       "    </tr>\n",
       "    <tr>\n",
       "      <th>2</th>\n",
       "      <td>2023-07-01</td>\n",
       "      <td>Canada</td>\n",
       "      <td>ON</td>\n",
       "      <td>NaN</td>\n",
       "      <td>holiday</td>\n",
       "      <td>0.45</td>\n",
       "      <td>public_holidays</td>\n",
       "    </tr>\n",
       "    <tr>\n",
       "      <th>3</th>\n",
       "      <td>2023-10-25</td>\n",
       "      <td>USA</td>\n",
       "      <td>NY</td>\n",
       "      <td>NYC Wine &amp; Food Fest</td>\n",
       "      <td>festival</td>\n",
       "      <td>0.30</td>\n",
       "      <td>event_calendar</td>\n",
       "    </tr>\n",
       "    <tr>\n",
       "      <th>4</th>\n",
       "      <td>2023-09-05</td>\n",
       "      <td>Canada</td>\n",
       "      <td>ON</td>\n",
       "      <td>TIFF</td>\n",
       "      <td>festival</td>\n",
       "      <td>0.40</td>\n",
       "      <td>event_calendar</td>\n",
       "    </tr>\n",
       "  </tbody>\n",
       "</table>\n",
       "</div>"
      ],
      "text/plain": [
       "         date country region/state            event_name event_type  \\\n",
       "0  12/31/2023     USA          NaN         New Years Eve    holiday   \n",
       "1  2023-02-14     USA          NaN       Valentine’s Day    holiday   \n",
       "2  2023-07-01  Canada           ON                   NaN    holiday   \n",
       "3  2023-10-25     USA           NY  NYC Wine & Food Fest   festival   \n",
       "4  2023-09-05  Canada           ON                  TIFF   festival   \n",
       "\n",
       "   impact_score           source  \n",
       "0          0.95  public_holidays  \n",
       "1          0.55  public_holidays  \n",
       "2          0.45  public_holidays  \n",
       "3          0.30   event_calendar  \n",
       "4          0.40   event_calendar  "
      ]
     },
     "execution_count": 109,
     "metadata": {},
     "output_type": "execute_result"
    }
   ],
   "source": [
    "# Print the first rows\n",
    "external_events.head()"
   ]
  },
  {
   "cell_type": "markdown",
   "id": "46dc73a7",
   "metadata": {},
   "source": [
    "## Analyze the table"
   ]
  },
  {
   "cell_type": "markdown",
   "id": "db8046e6",
   "metadata": {},
   "source": [
    "### Find the primary key"
   ]
  },
  {
   "cell_type": "code",
   "execution_count": 110,
   "id": "11e3b27a",
   "metadata": {},
   "outputs": [
    {
     "data": {
      "text/plain": [
       "[]"
      ]
     },
     "execution_count": 110,
     "metadata": {},
     "output_type": "execute_result"
    }
   ],
   "source": [
    "# Utilize the find_primary_key from the data_exploration package to obtain the primary key\n",
    "find_primary_key(external_events)"
   ]
  },
  {
   "cell_type": "markdown",
   "id": "0c3072a1",
   "metadata": {},
   "source": [
    "The granularity of the table is the individual distributor."
   ]
  },
  {
   "cell_type": "markdown",
   "id": "04c2e0e5",
   "metadata": {},
   "source": [
    "### Volumetry"
   ]
  },
  {
   "cell_type": "code",
   "execution_count": 111,
   "id": "ae57b5ac",
   "metadata": {},
   "outputs": [
    {
     "name": "stdout",
     "output_type": "stream",
     "text": [
      "There are 32 rows in the dataset.\n"
     ]
    }
   ],
   "source": [
    "# Utilize the find_volumetry from the data_exploration package to obtain the number of rows\n",
    "print(f\"There are {find_volumetry(external_events)} rows in the dataset.\")"
   ]
  },
  {
   "cell_type": "markdown",
   "id": "9bf54d47",
   "metadata": {},
   "source": [
    "### Number of unique values per column"
   ]
  },
  {
   "cell_type": "code",
   "execution_count": 112,
   "id": "014d1c87",
   "metadata": {},
   "outputs": [
    {
     "data": {
      "text/plain": [
       "{2, 4, 5, 9, 24}"
      ]
     },
     "execution_count": 112,
     "metadata": {},
     "output_type": "execute_result"
    }
   ],
   "source": [
    "find_number_of_unique_values_per_column(external_events)"
   ]
  },
  {
   "cell_type": "code",
   "execution_count": 113,
   "id": "1429b216",
   "metadata": {},
   "outputs": [
    {
     "name": "stdout",
     "output_type": "stream",
     "text": [
      "{2, 4, 5, 9, 24}\n"
     ]
    },
    {
     "ename": "TypeError",
     "evalue": "'set' object is not subscriptable",
     "output_type": "error",
     "traceback": [
      "\u001b[31m---------------------------------------------------------------------------\u001b[39m",
      "\u001b[31mTypeError\u001b[39m                                 Traceback (most recent call last)",
      "\u001b[36mCell\u001b[39m\u001b[36m \u001b[39m\u001b[32mIn[113]\u001b[39m\u001b[32m, line 9\u001b[39m\n\u001b[32m      7\u001b[39m \u001b[38;5;28;01mfor\u001b[39;00m i, col \u001b[38;5;129;01min\u001b[39;00m \u001b[38;5;28menumerate\u001b[39m(external_events.columns):\n\u001b[32m      8\u001b[39m     \u001b[38;5;28;01mif\u001b[39;00m i < \u001b[38;5;28mlen\u001b[39m(unique_counts):\n\u001b[32m----> \u001b[39m\u001b[32m9\u001b[39m         \u001b[38;5;28mprint\u001b[39m(\u001b[33mf\u001b[39m\u001b[33m\"\u001b[39m\u001b[33mThe number of unique values in the column \u001b[39m\u001b[38;5;132;01m{\u001b[39;00mcol\u001b[38;5;132;01m}\u001b[39;00m\u001b[33m is \u001b[39m\u001b[38;5;132;01m{\u001b[39;00m\u001b[43munique_counts\u001b[49m\u001b[43m[\u001b[49m\u001b[43mi\u001b[49m\u001b[43m]\u001b[49m\u001b[38;5;132;01m}\u001b[39;00m\u001b[33m.\u001b[39m\u001b[33m\"\u001b[39m)\n\u001b[32m     10\u001b[39m     \u001b[38;5;28;01melse\u001b[39;00m:\n\u001b[32m     11\u001b[39m         \u001b[38;5;28mprint\u001b[39m(\u001b[33mf\u001b[39m\u001b[33m\"\u001b[39m\u001b[33mNo data for the column \u001b[39m\u001b[38;5;132;01m{\u001b[39;00mcol\u001b[38;5;132;01m}\u001b[39;00m\u001b[33m\"\u001b[39m)\n",
      "\u001b[31mTypeError\u001b[39m: 'set' object is not subscriptable"
     ]
    }
   ],
   "source": [
    "# Count the number of unique values for each column in the dataset 'distributors'. \n",
    "# Sort the results to have the columns with the least number of unique values first.\n",
    "unique_counts = find_number_of_unique_values_per_column(external_events)\n",
    "print(unique_counts)\n",
    "\n",
    "# Print results\n",
    "for i, col in enumerate(external_events.columns):\n",
    "    if i < len(unique_counts):\n",
    "        print(f\"The number of unique values in the column {col} is {unique_counts[i]}.\")\n",
    "    else:\n",
    "        print(f\"No data for the column {col}\")"
   ]
  },
  {
   "cell_type": "code",
   "execution_count": 14,
   "id": "82abdcb8",
   "metadata": {},
   "outputs": [
    {
     "name": "stdout",
     "output_type": "stream",
     "text": [
      "date             5\n",
      "country          0\n",
      "region/state    16\n",
      "event_name       3\n",
      "event_type       0\n",
      "impact_score     0\n",
      "source           0\n",
      "dtype: int64\n"
     ]
    }
   ],
   "source": [
    "print(external_events.isna().sum())"
   ]
  },
  {
   "cell_type": "code",
   "execution_count": null,
   "id": "3ab2f33c",
   "metadata": {},
   "outputs": [],
   "source": []
  }
 ],
 "metadata": {
  "kernelspec": {
   "display_name": "champagne-north-america-business-project (3.11.13)",
   "language": "python",
   "name": "python3"
  },
  "language_info": {
   "codemirror_mode": {
    "name": "ipython",
    "version": 3
   },
   "file_extension": ".py",
   "mimetype": "text/x-python",
   "name": "python",
   "nbconvert_exporter": "python",
   "pygments_lexer": "ipython3",
   "version": "3.11.13"
  }
 },
 "nbformat": 4,
 "nbformat_minor": 5
}
