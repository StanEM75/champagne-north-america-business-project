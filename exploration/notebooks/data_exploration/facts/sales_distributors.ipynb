{
 "cells": [
  {
   "cell_type": "markdown",
   "id": "377152f1",
   "metadata": {},
   "source": [
    "# Sales_distributors table"
   ]
  },
  {
   "cell_type": "code",
   "execution_count": null,
   "id": "d40bbd68",
   "metadata": {},
   "outputs": [],
   "source": []
  },
  {
   "cell_type": "markdown",
   "id": "e3f0a6d2",
   "metadata": {
    "vscode": {
     "languageId": "plaintext"
    }
   },
   "source": [
    "## Imports"
   ]
  },
  {
   "cell_type": "code",
   "execution_count": 1,
   "id": "73b4062d",
   "metadata": {},
   "outputs": [],
   "source": [
    "# To import data\n",
    "import pandas as pd \n",
    "import numpy as np\n",
    "\n",
    "# Functions for data preparation\n",
    "from packages.utils.data_exploration import find_primary_key,find_volumetry, find_number_of_unique_values_per_column, share_of_null, share_of_rows_with_null, share_of_columns_with_null, share_of_null_within_columns"
   ]
  },
  {
   "cell_type": "code",
   "execution_count": 3,
   "id": "864be47d",
   "metadata": {},
   "outputs": [],
   "source": [
    "# Import the promotions dataset\n",
    "sales_distributors = pd.read_csv('../../../data/facts/sales_distributors.csv')"
   ]
  },
  {
   "cell_type": "code",
   "execution_count": 5,
   "id": "126dbdb9",
   "metadata": {},
   "outputs": [
    {
     "data": {
      "text/html": [
       "<div>\n",
       "<style scoped>\n",
       "    .dataframe tbody tr th:only-of-type {\n",
       "        vertical-align: middle;\n",
       "    }\n",
       "\n",
       "    .dataframe tbody tr th {\n",
       "        vertical-align: top;\n",
       "    }\n",
       "\n",
       "    .dataframe thead th {\n",
       "        text-align: right;\n",
       "    }\n",
       "</style>\n",
       "<table border=\"1\" class=\"dataframe\">\n",
       "  <thead>\n",
       "    <tr style=\"text-align: right;\">\n",
       "      <th></th>\n",
       "      <th>date</th>\n",
       "      <th>country</th>\n",
       "      <th>state_province</th>\n",
       "      <th>distributor_id</th>\n",
       "      <th>channel</th>\n",
       "      <th>retailer_id</th>\n",
       "      <th>sku</th>\n",
       "      <th>product_name</th>\n",
       "      <th>bottle_size_ml</th>\n",
       "      <th>units</th>\n",
       "      <th>unit_price</th>\n",
       "      <th>currency</th>\n",
       "      <th>discount_applied</th>\n",
       "      <th>promo_id</th>\n",
       "      <th>order_id</th>\n",
       "      <th>invoice_id</th>\n",
       "    </tr>\n",
       "  </thead>\n",
       "  <tbody>\n",
       "    <tr>\n",
       "      <th>0</th>\n",
       "      <td>31-12-2023</td>\n",
       "      <td>USA</td>\n",
       "      <td>WA</td>\n",
       "      <td>D001</td>\n",
       "      <td>On-Trade</td>\n",
       "      <td>R0001</td>\n",
       "      <td>CH-03-375</td>\n",
       "      <td>Maison Étoile - Blanc de Blancs 375ml</td>\n",
       "      <td>375</td>\n",
       "      <td>6</td>\n",
       "      <td>31.30</td>\n",
       "      <td>USD</td>\n",
       "      <td>0</td>\n",
       "      <td>NaN</td>\n",
       "      <td>O500000</td>\n",
       "      <td>NaN</td>\n",
       "    </tr>\n",
       "    <tr>\n",
       "      <th>1</th>\n",
       "      <td>2023-06-03</td>\n",
       "      <td>USA</td>\n",
       "      <td>CA</td>\n",
       "      <td>D004</td>\n",
       "      <td>Off-Trade</td>\n",
       "      <td>R0018</td>\n",
       "      <td>CH-03-1500</td>\n",
       "      <td>Maison Étoile - Blanc de Blancs 1500ml</td>\n",
       "      <td>1500</td>\n",
       "      <td>1</td>\n",
       "      <td>148.79</td>\n",
       "      <td>USD</td>\n",
       "      <td>1</td>\n",
       "      <td>NaN</td>\n",
       "      <td>O500001</td>\n",
       "      <td>INV500043</td>\n",
       "    </tr>\n",
       "    <tr>\n",
       "      <th>2</th>\n",
       "      <td>2024-02-03</td>\n",
       "      <td>USA</td>\n",
       "      <td>MN</td>\n",
       "      <td>D003</td>\n",
       "      <td>On-Trade</td>\n",
       "      <td>R0006</td>\n",
       "      <td>CH-02-375</td>\n",
       "      <td>MAISON ÉTOILE brut rosé 375ml</td>\n",
       "      <td>375</td>\n",
       "      <td>8</td>\n",
       "      <td>34.39</td>\n",
       "      <td>USD</td>\n",
       "      <td>0</td>\n",
       "      <td>NaN</td>\n",
       "      <td>O500002</td>\n",
       "      <td>INV500008</td>\n",
       "    </tr>\n",
       "    <tr>\n",
       "      <th>3</th>\n",
       "      <td>08/29/2023</td>\n",
       "      <td>USA</td>\n",
       "      <td>FL</td>\n",
       "      <td>D004</td>\n",
       "      <td>On-Trade</td>\n",
       "      <td>R0007</td>\n",
       "      <td>CH-06-750</td>\n",
       "      <td>Maison Étoile Demi-sec 750 mL</td>\n",
       "      <td>750</td>\n",
       "      <td>2</td>\n",
       "      <td>60.33</td>\n",
       "      <td>CAD</td>\n",
       "      <td>0</td>\n",
       "      <td>NaN</td>\n",
       "      <td>O500003</td>\n",
       "      <td>INV500023</td>\n",
       "    </tr>\n",
       "    <tr>\n",
       "      <th>4</th>\n",
       "      <td>2024-09-24</td>\n",
       "      <td>Canada</td>\n",
       "      <td>SK</td>\n",
       "      <td>D004</td>\n",
       "      <td>Off-Trade</td>\n",
       "      <td>R0010</td>\n",
       "      <td>CH-06-375</td>\n",
       "      <td>Maison Étoile Demi-sec 375 mL</td>\n",
       "      <td>375</td>\n",
       "      <td>4</td>\n",
       "      <td>41.52</td>\n",
       "      <td>CAD</td>\n",
       "      <td>0</td>\n",
       "      <td>P1034</td>\n",
       "      <td>O500004</td>\n",
       "      <td>INV500047</td>\n",
       "    </tr>\n",
       "  </tbody>\n",
       "</table>\n",
       "</div>"
      ],
      "text/plain": [
       "         date country state_province distributor_id    channel retailer_id  \\\n",
       "0  31-12-2023     USA             WA           D001   On-Trade       R0001   \n",
       "1  2023-06-03     USA             CA           D004  Off-Trade       R0018   \n",
       "2  2024-02-03     USA             MN           D003   On-Trade       R0006   \n",
       "3  08/29/2023     USA             FL           D004   On-Trade       R0007   \n",
       "4  2024-09-24  Canada             SK           D004  Off-Trade       R0010   \n",
       "\n",
       "          sku                            product_name  bottle_size_ml  units  \\\n",
       "0   CH-03-375   Maison Étoile - Blanc de Blancs 375ml             375      6   \n",
       "1  CH-03-1500  Maison Étoile - Blanc de Blancs 1500ml            1500      1   \n",
       "2   CH-02-375           MAISON ÉTOILE brut rosé 375ml             375      8   \n",
       "3   CH-06-750           Maison Étoile Demi-sec 750 mL             750      2   \n",
       "4   CH-06-375           Maison Étoile Demi-sec 375 mL             375      4   \n",
       "\n",
       "   unit_price currency  discount_applied promo_id order_id invoice_id  \n",
       "0       31.30      USD                 0      NaN  O500000        NaN  \n",
       "1      148.79      USD                 1      NaN  O500001  INV500043  \n",
       "2       34.39      USD                 0      NaN  O500002  INV500008  \n",
       "3       60.33      CAD                 0      NaN  O500003  INV500023  \n",
       "4       41.52      CAD                 0    P1034  O500004  INV500047  "
      ]
     },
     "execution_count": 5,
     "metadata": {},
     "output_type": "execute_result"
    }
   ],
   "source": [
    "# Print the first rows\n",
    "sales_distributors.head()"
   ]
  },
  {
   "cell_type": "markdown",
   "id": "90ecf7c2",
   "metadata": {},
   "source": [
    "## Analyze the table"
   ]
  },
  {
   "cell_type": "markdown",
   "id": "544ecf6c",
   "metadata": {},
   "source": [
    "### Find the primary key"
   ]
  },
  {
   "cell_type": "code",
   "execution_count": 6,
   "id": "eec66c12",
   "metadata": {},
   "outputs": [
    {
     "data": {
      "text/plain": [
       "[]"
      ]
     },
     "execution_count": 6,
     "metadata": {},
     "output_type": "execute_result"
    }
   ],
   "source": [
    "# Utilize the find_primary_key from the data_exploration package to obtain the primary key\n",
    "find_primary_key(sales_distributors)"
   ]
  },
  {
   "cell_type": "markdown",
   "id": "7703f24d",
   "metadata": {},
   "source": [
    "### Volumetry"
   ]
  },
  {
   "cell_type": "code",
   "execution_count": 7,
   "id": "b0c9b260",
   "metadata": {},
   "outputs": [
    {
     "name": "stdout",
     "output_type": "stream",
     "text": [
      "There are 3120 rows in the dataset.\n"
     ]
    }
   ],
   "source": [
    "# Utilize the find_volumetry from the data_exploration package to obtain the number of rows\n",
    "print(f\"There are {find_volumetry(sales_distributors)} rows in the dataset.\")"
   ]
  },
  {
   "cell_type": "markdown",
   "id": "8fef64d8",
   "metadata": {},
   "source": [
    "### Number of unique values per column"
   ]
  },
  {
   "cell_type": "code",
   "execution_count": 8,
   "id": "e0fd7811",
   "metadata": {},
   "outputs": [
    {
     "name": "stdout",
     "output_type": "stream",
     "text": [
      "   date  country  state_province  distributor_id  channel  retailer_id  sku  \\\n",
      "0  1798        2              30               4        3           18   21   \n",
      "\n",
      "   product_name  bottle_size_ml  units  unit_price  currency  \\\n",
      "0            84               3     17        2400         2   \n",
      "\n",
      "   discount_applied  promo_id  order_id  invoice_id  \n",
      "0                 2        60      3000        1878  \n"
     ]
    }
   ],
   "source": [
    "print(find_number_of_unique_values_per_column(sales_distributors))"
   ]
  },
  {
   "cell_type": "markdown",
   "id": "3399af73",
   "metadata": {},
   "source": [
    "### Number of null values per column"
   ]
  },
  {
   "cell_type": "code",
   "execution_count": 9,
   "id": "06aba2fa",
   "metadata": {},
   "outputs": [
    {
     "name": "stdout",
     "output_type": "stream",
     "text": [
      "   date  country  state_province  distributor_id  channel  retailer_id  sku  \\\n",
      "0    64        0               0               0        0            0   28   \n",
      "\n",
      "   product_name  bottle_size_ml  units  unit_price  currency  \\\n",
      "0             0               0      0           0         0   \n",
      "\n",
      "   discount_applied  promo_id  order_id  invoice_id  \n",
      "0                 0      2327         0         137  \n"
     ]
    }
   ],
   "source": [
    "print(share_of_null_within_columns(sales_distributors))"
   ]
  },
  {
   "cell_type": "code",
   "execution_count": null,
   "id": "d66db120",
   "metadata": {},
   "outputs": [],
   "source": []
  }
 ],
 "metadata": {
  "kernelspec": {
   "display_name": "champagne-north-america-business-project (3.12.8)",
   "language": "python",
   "name": "python3"
  },
  "language_info": {
   "codemirror_mode": {
    "name": "ipython",
    "version": 3
   },
   "file_extension": ".py",
   "mimetype": "text/x-python",
   "name": "python",
   "nbconvert_exporter": "python",
   "pygments_lexer": "ipython3",
   "version": "3.11.13"
  }
 },
 "nbformat": 4,
 "nbformat_minor": 5
}
